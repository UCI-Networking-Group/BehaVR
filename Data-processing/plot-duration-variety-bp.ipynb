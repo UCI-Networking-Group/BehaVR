{
 "cells": [
  {
   "cell_type": "code",
   "execution_count": null,
   "id": "b1f5598f",
   "metadata": {},
   "outputs": [],
   "source": [
    "import pandas as pd\n",
    "import matplotlib.pyplot as plt\n",
    "import numpy as np\n",
    "import matplotlib as mpl\n",
    "from matplotlib.lines import Line2D\n",
    "import random"
   ]
  },
  {
   "cell_type": "code",
   "execution_count": null,
   "id": "ff061017",
   "metadata": {},
   "outputs": [],
   "source": [
    "data =[random.gauss(200, 20) for _ in range(400)]\n",
    "data_list = np.array(data).reshape(20, -1).tolist() # 20 = 20 users total\n",
    "game_colors = ['c', 'orange', 'b', 'm', 'g', 'y', 'mediumslateblue', 'm', 'orange', 'orange', 'orange', 'r', 'g', 'g', 'r', 'orange', 'orange', 'r', 'b', 'b']\n",
    "user_colors = ['r', 'orange', 'goldenrod', 'gold', 'yellow', 'greenyellow', 'lime', 'forestgreen', 'turquoise', 'teal', 'cyan', 'deepskyblue', 'blueviolet', 'violet', 'hotpink', 'magenta', 'crimson', 'blue', 'indigo', 'darkorchid', 'plum' ]"
   ]
  },
  {
   "cell_type": "code",
   "execution_count": null,
   "id": "a43e61a4",
   "metadata": {},
   "outputs": [],
   "source": [
    "#APP DYNAMICS\n",
    "fig, ax = plt.subplots(figsize=(5,3))\n",
    "bplot1 = ax.boxplot(data_list, 0, '', patch_artist=True) \n",
    "for patch, color in zip(bplot1[\"boxes\"], game_colors):\n",
    "    patch.set_facecolor(color)\n",
    "    patch.set_alpha(0.7)\n",
    "\n",
    "x = range(1,21,1)\n",
    "x_a = [\"a$_{\" + str(element) + \"}$\" for element in x]\n",
    "plt.xticks(x, x_a, fontsize = 8)\n",
    "plt.yticks(fontsize = 8)\n",
    "plt.xlabel(\"App\", fontsize=10)\n",
    "plt.ylabel(\"Duration (s)\", fontsize=10)\n",
    "\n",
    "custom_lines = [Line2D([0], [0], color='r', lw=4),\n",
    "                Line2D([0], [0], color='b', lw=4),\n",
    "                Line2D([0], [0], color='y', lw=4),\n",
    "                Line2D([0], [0], color='orange', lw=4),\n",
    "                Line2D([0], [0], color='mediumslateblue', lw=4),\n",
    "                Line2D([0], [0], color='c', lw=4),\n",
    "                Line2D([0], [0], color='g', lw=4),\n",
    "                Line2D([0], [0], color='m', lw=4)]\n",
    "ax.legend(custom_lines, ['Social', 'Flight Sim.', 'Golfing', 'Int. Nav.', 'Knu. Walk', 'Rhythm', 'Shoot & Arch.', 'Teleport' ], loc=2,bbox_to_anchor=(1.05, 1), borderaxespad=0, frameon = False, fontsize = 10)\n",
    "# mpl.rcParams['text.usetex'] = True \n",
    "# mpl.rcParams['font.family'] = 'serif'\n",
    "# mpl.rcParams['pdf.fonttype'] = 42\n",
    "# mpl.rcParams['ps.fonttype'] = 42\n",
    "plt.savefig('game-dynamics-bp.pdf', format='pdf', bbox_inches='tight')\n",
    "plt.show()"
   ]
  },
  {
   "cell_type": "code",
   "execution_count": null,
   "id": "fc4a1304",
   "metadata": {},
   "outputs": [],
   "source": [
    "#USER DYNAMICS\n",
    "fig, ax = plt.subplots(figsize=(5,3))\n",
    "user_size = 20\n",
    "ul = list(range(1, user_size+2, 1))\n",
    "ul.pop(8)\n",
    "\n",
    "data = [random.randint(200, 300) for _ in range(400)] #dummy data\n",
    "data_list = np.array(data).reshape(20, -1).tolist() # 20 = 20 apps total \n",
    "bplot2 = ax.boxplot(data_list, 0, '', patch_artist=True) \n",
    "for patch, color in zip(bplot2[\"boxes\"], user_colors):\n",
    "    patch.set_facecolor(color)\n",
    "    patch.set_alpha(0.7)\n",
    "\n",
    "x_label_list = []\n",
    "x = range(1,21,1)\n",
    "x_a = [\"u$_{\" + str(element) + \"}$\" for element in x]\n",
    "plt.xticks(x, x_a, fontsize = 8)\n",
    "plt.yticks(fontsize = 8)\n",
    "plt.xlabel(\"User\", fontsize=10)\n",
    "plt.ylabel(\"Duration (s)\", fontsize=10)\n",
    "# mpl.rcParams['text.usetex'] = True\n",
    "# mpl.rcParams['font.family'] = 'serif'\n",
    "# mpl.rcParams['pdf.fonttype'] = 42\n",
    "# mpl.rcParams['ps.fonttype'] = 42\n",
    "plt.savefig('user-dynamics-bp.pdf')\n",
    "plt.show()"
   ]
  }
 ],
 "metadata": {
  "kernelspec": {
   "display_name": "Python 3 (ipykernel)",
   "language": "python",
   "name": "python3"
  },
  "language_info": {
   "codemirror_mode": {
    "name": "ipython",
    "version": 3
   },
   "file_extension": ".py",
   "mimetype": "text/x-python",
   "name": "python",
   "nbconvert_exporter": "python",
   "pygments_lexer": "ipython3",
   "version": "3.7.4"
  }
 },
 "nbformat": 4,
 "nbformat_minor": 5
}
