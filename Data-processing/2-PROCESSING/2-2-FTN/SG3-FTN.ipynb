{
 "cells": [
  {
   "cell_type": "code",
   "execution_count": null,
   "id": "48826918",
   "metadata": {},
   "outputs": [],
   "source": [
    "# SG3 - FTN\n",
    "# Topic: Hand-joints data preprocess & abstraction\n",
    "# Done:  (1) Hand-joints data preprocess & abstraction\n",
    "#        (2) Fuse left & right hand"
   ]
  },
  {
   "cell_type": "code",
   "execution_count": null,
   "id": "bb9771d0",
   "metadata": {},
   "outputs": [],
   "source": [
    "import os\n",
    "import numpy as np\n",
    "import pandas as pd\n",
    "from matplotlib import pyplot as plt\n",
    "import itertools \n",
    "import warnings\n",
    "import math"
   ]
  },
  {
   "cell_type": "code",
   "execution_count": null,
   "id": "b1ca833d",
   "metadata": {},
   "outputs": [],
   "source": [
    "# Path\n",
    "destination_folder = \"D:/vr-project/.../data/result\" #result\n",
    "path_clean = \"D:/vr-project/.../data/clean/SG3\" #clean\n",
    "clean_file = os.walk(path_clean) "
   ]
  },
  {
   "cell_type": "code",
   "execution_count": null,
   "id": "a42e6840",
   "metadata": {},
   "outputs": [],
   "source": [
    "# Create blank csv\n",
    "df1 = pd.DataFrame(columns = range(7))\n",
    "df1.columns = [\"user_id\", \"game_id\", \"round_id\", \"device_id\", \"time_slot\", \"sample_size\", \"block_number\"]\n",
    "save_info_path = destination_folder + '/SG3_info_FTN_1s.csv'\n",
    "df1.to_csv(save_info_path, index=False, header=True) #default: header=False\n",
    "\n",
    "df2 = pd.DataFrame(columns = range(915)) # 5  + 5 * 7 * 26= 915\n",
    "df2_str_list = []\n",
    "for j in [\"max\", \"min\", \"mean\", \"std\", \"med\"]:\n",
    "  for i in range(26):\n",
    "    for k in [\"BoneRotation.x\", \"BoneRotation.y\", \"BoneRotation.z\", \"BoneRotation.w\", \"BonePosition.x\",  \"BonePosition.y\", \"BonePosition.z\"]:\n",
    "      df2_str_list.append(k + \"_\" + str(i) + \"_\" + j)\n",
    "df2_id_list = [\"user_id\", \"game_id\", \"round_id\", \"device_id\",\"block_id\"]\n",
    "df2_str_list = df2_id_list + df2_str_list \n",
    "df2.columns = df2_str_list\n",
    "save_feat_path = destination_folder + '/SG3_ts_feature_FTN_1s.csv'   \n",
    "df2.to_csv(save_feat_path, index=False, header=True)"
   ]
  },
  {
   "cell_type": "code",
   "execution_count": null,
   "id": "cfb39356",
   "metadata": {},
   "outputs": [],
   "source": []
  },
  {
   "cell_type": "code",
   "execution_count": null,
   "id": "69b1b627",
   "metadata": {},
   "outputs": [],
   "source": [
    "# (1) Divide block and abstract the information\n",
    "\n",
    "for path, dir_list, file_list in clean_file:\n",
    "  for file_name in file_list:\n",
    "\n",
    "    print(file_name)\n",
    "    filepath = os.path.join(path, file_name)\n",
    "    raw = pd.read_csv(filepath)\n",
    "    raw_data = raw.loc[:,\"BoneRotation[0].x\":\"BonePosition[25].z\"] # 182 features\n",
    "\n",
    "    # get FBN_g \n",
    "    # FBN_g : how many blocks this ts need to be divided into\n",
    "    str2 = file_name.split(\".\")\n",
    "    str3 = str2[0].split(\"_\")\n",
    "    id_list = [int(element) for element in str3]\n",
    "    g_id = int(id_list[1])\n",
    "\n",
    "    # Build ts blocks\n",
    "    TS = 2 # TS = 1 means around one second per block\n",
    "    LEN = raw.shape[0]\n",
    "    ts_delta = (int(raw.at[LEN-1, \"Timestamp\"]) - int(raw.at[0, \"Timestamp\"])) / pow(10,9)\n",
    "    sample_rate = int(LEN/ts_delta) #floor\n",
    "    granu = int(TS * sample_rate)\n",
    "    df_wr = pd.DataFrame(columns = range(915))\n",
    "\n",
    "    # Traverse Blocks in a ts\n",
    "    for i in range(1, int(ts_delta/TS) + 1):\n",
    "      \n",
    "      #set block\n",
    "      raw_block = raw_data[(i-1)*granu : (i*granu-1)]\n",
    "      \n",
    "      #compute statistics\n",
    "      fea_block = [] # 5 statistics\n",
    "      fea_block += list(raw_block.max())\n",
    "      fea_block += list(raw_block.min())\n",
    "      fea_block += list(raw_block.mean())\n",
    "      fea_block += list(raw_block.std())\n",
    "      fea_block += list(raw_block.median())\n",
    "      df_block_fea = pd.DataFrame(fea_block)\n",
    "      df_block_fea = df_block_fea.T\n",
    "      \n",
    "      #combine blocks feature\n",
    "      str2 = file_name.split(\".\")\n",
    "      str3 = str2[0].split(\"_\")\n",
    "      id_list = [int(element) for element in str3]\n",
    "      id_list.append(i)\n",
    "      \n",
    "      id_df = pd.DataFrame(id_list)\n",
    "      id_df = id_df.T\n",
    "      id_df.columns = [\"user_id\", \"game_id\", \"round_id\", \"device_id\", \"block_id\"]\n",
    "      df_block_row = pd.concat([id_df, df_block_fea], axis = 1, join = 'outer')\n",
    "      df_wr = df_wr.append(df_block_row)\n",
    "      \n",
    "\n",
    "    # Save One file info\n",
    "    str2 = file_name.split(\".\")\n",
    "    str3 = str2[0].split(\"_\")\n",
    "    id_list = [int(element) for element in str3]\n",
    "\n",
    "    id_list.append(ts_delta) # sec info: how many seconds\n",
    "    id_list.append(LEN) # how many samples\n",
    "    id_list.append(i+1) # how many blocks\n",
    "    id_df = pd.DataFrame(id_list)\n",
    "    id_df = id_df.T\n",
    "    id_df.columns = [\"user_id\", \"game_id\", \"round_id\", \"device_id\", \"time_slot\", \"sample_size\", \"block_number\"]\n",
    "    id_df.to_csv(save_info_path, mode='a', index=False, header=False)\n",
    "    #time_slot: how long for user playing the game: Unit-second\n",
    "    #sample_size:how many ts data\n",
    "    #block_number:timeseries is divided into how many blocks\n",
    "    \n",
    "    # Post-process Patch\n",
    "    df_wr.replace('-', 0, inplace=True)\n",
    "    df_wr.fillna(0, inplace=True)\n",
    "    df_wr = df_wr.drop(df_wr.columns[910:915], axis=1) #[）\n",
    "    hd_ls = [\"block_id\", \"device_id\", \"game_id\", \"round_id\", \"user_id\"]\n",
    "    for element in hd_ls:\n",
    "        col_insert = df_wr.pop(element)\n",
    "        df_wr.insert(0, element, col_insert)\n",
    "    # Save file featues\n",
    "    df_wr.to_csv(save_feat_path, mode='a', index=False, header=False)"
   ]
  },
  {
   "cell_type": "code",
   "execution_count": null,
   "id": "4456153e",
   "metadata": {},
   "outputs": [],
   "source": []
  },
  {
   "cell_type": "code",
   "execution_count": null,
   "id": "f03595e6",
   "metadata": {},
   "outputs": [],
   "source": [
    "# (2) Fuse to CSV\n",
    "feature_path =  destination_folder + '/SG3_ts_feature_FTN_1s.csv' \n",
    "raw = pd.read_csv(feature_path)\n",
    "#\n",
    "raw.isna().sum().sum()\n",
    "df_5 = raw[(raw.device_id == 5)].drop(columns =[\"device_id\"]) #left hand\n",
    "df_7 = raw[(raw.device_id == 7)].drop(columns =[\"device_id\"]) #right hand\n",
    "df_merge = pd.merge(df_5,df_7,how = \"outer\", on = [\"user_id\", \"game_id\", \"round_id\", \"block_id\"])\n",
    "#\n",
    "print(df_merge.shape)\n",
    "#suffix: x means left hand, y means right hand\n",
    "#\n",
    "df_merge = df_merge.replace('-', pd.NA)\n",
    "df_merge = df_merge.fillna(0)\n",
    "df_merge.isna().sum().sum()"
   ]
  },
  {
   "cell_type": "code",
   "execution_count": null,
   "id": "traditional-leather",
   "metadata": {},
   "outputs": [],
   "source": [
    "save_path = destination_folder + '/SG3_fuse_ts_feature_FTN_1s.csv'   \n",
    "df_merge.to_csv(save_path, index=False, header=True)\n",
    "print(\"SUCCESS SAVED File!\")"
   ]
  },
  {
   "cell_type": "code",
   "execution_count": null,
   "id": "2ad4bd90",
   "metadata": {},
   "outputs": [],
   "source": []
  },
  {
   "cell_type": "code",
   "execution_count": null,
   "id": "afdd74bc",
   "metadata": {},
   "outputs": [],
   "source": [
    "# Check result file size\n",
    "feature_path =  destination_folder + '/SG3_fuse_ts_feature_FTN_1s.csv' \n",
    "raw = pd.read_csv(feature_path)\n",
    "print(raw.shape)\n",
    "print(\"READ SUCCESS\")"
   ]
  },
  {
   "cell_type": "code",
   "execution_count": null,
   "id": "14f3f14e",
   "metadata": {},
   "outputs": [],
   "source": []
  },
  {
   "cell_type": "code",
   "execution_count": null,
   "id": "5257b30f",
   "metadata": {},
   "outputs": [],
   "source": []
  },
  {
   "cell_type": "code",
   "execution_count": null,
   "id": "cb4bc5f6",
   "metadata": {},
   "outputs": [],
   "source": []
  }
 ],
 "metadata": {
  "kernelspec": {
   "display_name": "Python 3",
   "language": "python",
   "name": "python3"
  },
  "language_info": {
   "codemirror_mode": {
    "name": "ipython",
    "version": 3
   },
   "file_extension": ".py",
   "mimetype": "text/x-python",
   "name": "python",
   "nbconvert_exporter": "python",
   "pygments_lexer": "ipython3",
   "version": "3.7.4"
  }
 },
 "nbformat": 4,
 "nbformat_minor": 5
}
