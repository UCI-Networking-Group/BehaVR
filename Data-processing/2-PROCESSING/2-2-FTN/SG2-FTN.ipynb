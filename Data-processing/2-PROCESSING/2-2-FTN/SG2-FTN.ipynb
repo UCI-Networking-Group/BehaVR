{
 "cells": [
  {
   "cell_type": "code",
   "execution_count": null,
   "id": "10aed66f",
   "metadata": {},
   "outputs": [],
   "source": [
    "# SG2 - WS\n",
    "# Topic: eye-tracking data preprocess & abstraction\n",
    "# Done:  (1) Eye-tracking data preprocess & abstraction\n",
    "#        (2) Fuse left & right eye"
   ]
  },
  {
   "cell_type": "code",
   "execution_count": null,
   "id": "d6dfcb77",
   "metadata": {},
   "outputs": [],
   "source": [
    "import os\n",
    "import numpy as np\n",
    "import pandas as pd\n",
    "from matplotlib import pyplot as plt\n",
    "import itertools "
   ]
  },
  {
   "cell_type": "code",
   "execution_count": null,
   "id": "11a48cec",
   "metadata": {},
   "outputs": [],
   "source": [
    "# Path\n",
    "destination_folder = \"D:/vr-project/.../data/result\" #result\n",
    "path_clean = \"D:/vr-project/.../data/clean/SG2\" #clean\n",
    "clean_file = os.walk(path_clean) "
   ]
  },
  {
   "cell_type": "code",
   "execution_count": null,
   "id": "0fdd6c2d",
   "metadata": {},
   "outputs": [],
   "source": [
    "# Create blank csv\n",
    "df1 = pd.DataFrame(columns = range(7))\n",
    "df1.columns = [\"user_id\", \"game_id\", \"round_id\", \"device_id\", \"time_slot\", \"sample_size\", \"block_number\"]\n",
    "save_info_path = destination_folder + '/SG2_info_FTN_1s.csv'\n",
    "df1.to_csv(save_info_path, index=False, header=True) #default: header=False\n",
    "#\n",
    "df2 = pd.DataFrame(columns = range(21)) # 5  + 5 * 3 + 1 = 21\n",
    "df2.columns = [\n",
    "               \"user_id\", \"game_id\", \"round_id\", \"device_id\",\"block_id\",\n",
    "               \"Quatx_max\",\"Quaty_max\", \"Quatw_max\",\n",
    "               \"Quatx_min\",\"Quaty_min\", \"Quatw_min\",\n",
    "               \"Quatx_mean\",\"Quaty_mean\", \"Quatw_mean\",\n",
    "               \"Quatx_std\",\"Quaty_std\", \"Quatw_std\", \n",
    "               \"Quatx_median\",\"Quaty_median\", \"Quatw_median\",\n",
    "               \"IPD\"\n",
    "               ]\n",
    "save_feat_path = destination_folder + '/SG2_ts_feature_FTN_1s.csv'   \n",
    "df2.to_csv(save_feat_path, index=False, header=True)"
   ]
  },
  {
   "cell_type": "code",
   "execution_count": null,
   "id": "a4108b1b",
   "metadata": {},
   "outputs": [],
   "source": []
  },
  {
   "cell_type": "code",
   "execution_count": null,
   "id": "4d27a2b7",
   "metadata": {},
   "outputs": [],
   "source": [
    "# (1) Divide block and abstract the information\n",
    "\n",
    "for path, dir_list, file_list in clean_file:\n",
    "  for file_name in file_list:\n",
    "\n",
    "    filepath = os.path.join(path, file_name)\n",
    "    raw = pd.read_csv(filepath)\n",
    "    raw_data = raw.loc[:,[\"Orientation.x\", \"Orientation.y\", \"Orientation.w\"]] # 3 meaningful features\n",
    "\n",
    "    # get FBN_g \n",
    "    # FBN_g : how many blocks this ts need to be divided into\n",
    "    str2 = file_name.split(\".\")\n",
    "    str3 = str2[0].split(\"_\")\n",
    "    id_list = [int(element) for element in str3]\n",
    "    g_id = int(id_list[1])\n",
    "\n",
    "    # Build ts blocks\n",
    "    TS = 1 # TS = 1 means around one second per block, larger TS, less blocks, block size is bigger\n",
    "    LEN = raw.shape[0]\n",
    "    ts_delta = (int(raw.at[LEN-1, \"Timestamp\"]) - int(raw.at[0, \"Timestamp\"])) / pow(10,9)\n",
    "    sample_rate = int(LEN/ts_delta) #floor\n",
    "    granu = int(TS * sample_rate)\n",
    "    df_wr = pd.DataFrame()\n",
    "\n",
    "    # Traverse Blocks in a ts\n",
    "    for i in range(1, int(ts_delta/TS) + 1):  \n",
    "      \n",
    "      #set block\n",
    "      raw_block = raw_data[(i-1)*granu : (i*granu-1)]\n",
    "      \n",
    "      #compute statistics\n",
    "      fea_block = [] # 5 statistics\n",
    "      fea_block += list(raw_block.max())\n",
    "      fea_block += list(raw_block.min())\n",
    "      fea_block += list(raw_block.mean())\n",
    "      fea_block += list(raw_block.std())\n",
    "      fea_block += list(raw_block.median())\n",
    "      fea_block += [IPD]\n",
    "      df_block_fea = pd.DataFrame(fea_block)\n",
    "      df_block_fea = df_block_fea.T\n",
    "      \n",
    "      #combine blocks feature\n",
    "      str2 = file_name.split(\".\")\n",
    "      str3 = str2[0].split(\"_\")\n",
    "      id_list = [int(element) for element in str3]\n",
    "      id_list.append(i)\n",
    "      \n",
    "      id_df = pd.DataFrame(id_list)\n",
    "      id_df = id_df.T\n",
    "      id_df.columns = [\"user_id\", \"game_id\", \"round_id\", \"device_id\", \"block_id\"]\n",
    "      df_block_row = pd.concat([id_df, df_block_fea], axis = 1, join = 'outer')\n",
    "      df_wr = df_wr.append(df_block_row)\n",
    "      \n",
    "    # Save One file info\n",
    "    str2 = file_name.split(\".\")\n",
    "    str3 = str2[0].split(\"_\")\n",
    "    id_list = [int(element) for element in str3]\n",
    "\n",
    "    id_list.append(ts_delta) # sec info: how many seconds\n",
    "    id_list.append(LEN) # how many samples\n",
    "    id_list.append(i+1) # how many blocks\n",
    "    id_df = pd.DataFrame(id_list)\n",
    "    id_df = id_df.T\n",
    "    id_df.columns = [\"user_id\", \"game_id\", \"round_id\", \"device_id\", \"time_slot\", \"sample_size\", \"block_number\"]\n",
    "    id_df.to_csv(save_info_path, mode='a', index=False, header=False)\n",
    "    #time_slot: how long for user playing the game: Unit-second\n",
    "    #sample_size:how many ts data\n",
    "    #block_number:timeseries is divided into how many blocks\n",
    "    \n",
    "    # Save file featues\n",
    "    df_wr.to_csv(save_feat_path, mode='a', index=False, header=False)"
   ]
  },
  {
   "cell_type": "code",
   "execution_count": null,
   "id": "a5497da4",
   "metadata": {},
   "outputs": [],
   "source": []
  },
  {
   "cell_type": "code",
   "execution_count": null,
   "id": "02b5278f",
   "metadata": {},
   "outputs": [],
   "source": [
    "# (2) Fuse to CSV\n",
    "feature_path =  destination_folder + '/SG2_ts_feature_FTN_1s.csv' \n",
    "raw = pd.read_csv(feature_path)\n",
    "df_4 = raw[(raw.device_id == 4)].drop(columns =[\"device_id\"]) #left eye\n",
    "df_6 = raw[(raw.device_id == 6)].drop(columns =[\"device_id\"]) #right-eye\n",
    "df_merge = pd.merge(df_4,df_6,how = \"outer\", on = [\"user_id\", \"game_id\", \"round_id\", \"block_id\", \"IPD\"])\n",
    "\n",
    "pd.set_option('display.max_columns', None)\n",
    "print(df_merge.shape)"
   ]
  },
  {
   "cell_type": "code",
   "execution_count": null,
   "id": "fc240aa6",
   "metadata": {},
   "outputs": [],
   "source": [
    "#Post process: Interpolate\n",
    "for index, row in df_merge.iterrows():\n",
    "    row_df = row.to_frame()\n",
    "    if row_df.isnull().values.any():\n",
    "        #find last block info\n",
    "        row_last_find = df_merge[ (df_merge[\"user_id\"] == row[\"user_id\"]) &  (df_merge[\"game_id\"] == row[\"game_id\"]) & (df_merge[\"round_id\"] == row[\"round_id\"]) & (df_merge[\"block_id\"] == row[\"block_id\"] - 1)].copy()\n",
    "        index_find = df_merge[ (df_merge[\"user_id\"] == row[\"user_id\"]) &  (df_merge[\"game_id\"] == row[\"game_id\"]) & (df_merge[\"round_id\"] == row[\"round_id\"]) & (df_merge[\"block_id\"] == row[\"block_id\"] - 1)].index.tolist()[0]\n",
    "        df_merge.loc[index, \"Quatx_max_x\": \"Quatw_median_y\"] = row_last_find.loc[index_find, \"Quatx_max_x\": \"Quatw_median_y\"]\n",
    "        print(\"*****\")"
   ]
  },
  {
   "cell_type": "code",
   "execution_count": null,
   "id": "01f82ed6",
   "metadata": {},
   "outputs": [],
   "source": [
    "save_path = destination_folder + '/SG2_fuse_ts_feature_FTN_1s.csv' \n",
    "df_merge.to_csv(save_path, index=False, header=True)\n",
    "print(\"SUCCESS SAVED File!\")"
   ]
  },
  {
   "cell_type": "code",
   "execution_count": null,
   "id": "5031b4ce",
   "metadata": {},
   "outputs": [],
   "source": []
  },
  {
   "cell_type": "code",
   "execution_count": null,
   "id": "353daf1f",
   "metadata": {},
   "outputs": [],
   "source": [
    "# Check result file size\n",
    "feature_path =  destination_folder + '/SG2_fuse_ts_feature_FTN_1s.csv' \n",
    "raw = pd.read_csv(feature_path)\n",
    "print(raw.shape)\n",
    "print(\"READ SUCCESS\")"
   ]
  },
  {
   "cell_type": "code",
   "execution_count": null,
   "id": "af297a90",
   "metadata": {},
   "outputs": [],
   "source": []
  },
  {
   "cell_type": "code",
   "execution_count": null,
   "id": "8ce53419",
   "metadata": {},
   "outputs": [],
   "source": []
  },
  {
   "cell_type": "code",
   "execution_count": null,
   "id": "f5dd0f4e",
   "metadata": {},
   "outputs": [],
   "source": []
  }
 ],
 "metadata": {
  "kernelspec": {
   "display_name": "Python 3",
   "language": "python",
   "name": "python3"
  },
  "language_info": {
   "codemirror_mode": {
    "name": "ipython",
    "version": 3
   },
   "file_extension": ".py",
   "mimetype": "text/x-python",
   "name": "python",
   "nbconvert_exporter": "python",
   "pygments_lexer": "ipython3",
   "version": "3.7.4"
  }
 },
 "nbformat": 4,
 "nbformat_minor": 5
}
