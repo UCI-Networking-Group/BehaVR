{
 "cells": [
  {
   "cell_type": "code",
   "execution_count": null,
   "id": "d354e9c5",
   "metadata": {},
   "outputs": [],
   "source": [
    "# SG11 - FTN\n",
    "# Topic: Motion-Head data preprocess & abstraction"
   ]
  },
  {
   "cell_type": "code",
   "execution_count": null,
   "id": "ad44e939",
   "metadata": {},
   "outputs": [],
   "source": [
    "import os\n",
    "import numpy as np\n",
    "import pandas as pd\n",
    "from matplotlib import pyplot as plt\n",
    "import itertools "
   ]
  },
  {
   "cell_type": "code",
   "execution_count": null,
   "id": "ed2b3335",
   "metadata": {},
   "outputs": [],
   "source": [
    "# Path\n",
    "dir_present = '...' #present directory\n",
    "destination_folder = dir_present+\"/data/result\" #result \n",
    "path_clean = dir_present+\"/data/clean/SG11\" #clean folder\n",
    "clean_file = os.walk(path_clean) "
   ]
  },
  {
   "cell_type": "code",
   "execution_count": null,
   "id": "06a8e4a3",
   "metadata": {},
   "outputs": [],
   "source": [
    "# Create Blank csv file\n",
    "df1 = pd.DataFrame(columns = range(7))\n",
    "df1.columns = [\"user_id\", \"game_id\", \"round_id\", \"device_id\", \"time_slot\", \"sample_size\", \"block_number\"]\n",
    "save_info_path = destination_folder + '/SG11_info_FTN_1s.csv'\n",
    "df1.to_csv(save_info_path, index=False, header=True) #default: header=False\n",
    "\n",
    "df2 = pd.DataFrame(columns = range(40)) # 5  + 5 * 7 = 40 (* no velocity in ALXR)\n",
    "df2_str_list = []\n",
    "for j in [\"max\", \"min\", \"mean\", \"std\", \"median\"]:\n",
    "    for k in [\"Quatx\", \"Quaty\", \"Quatz\", \"Quatw\", \"Pos0\",  \"Pos1\", \"Pos2\"]:\n",
    "        df2_str_list.append(k + \"_\" + j)\n",
    "df2_id_list = [\"user_id\", \"game_id\", \"round_id\", \"device_id\",\"block_id\"]\n",
    "df2_str_list = df2_id_list + df2_str_list \n",
    "df2.columns = df2_str_list\n",
    "save_feat_path = destination_folder + '/SG11_ts_feature_FTN_1s.csv'   \n",
    "df2.to_csv(save_feat_path, index=False, header=True)"
   ]
  },
  {
   "cell_type": "code",
   "execution_count": null,
   "id": "6a080720",
   "metadata": {},
   "outputs": [],
   "source": [
    "# Divide block and abstract the information\n",
    "\n",
    "for path, dir_list, file_list in os.walk(dir_present+\"/data/clean/SG11\"): #cleaned dir\n",
    "  for file_name in file_list:\n",
    "    \n",
    "    filepath = path + '/' + file_name\n",
    "    raw = pd.read_csv(filepath)\n",
    "    raw_data = raw.loc[:,\"Orientation.x\":\"Position.z\"] # 7 features\n",
    "\n",
    "    # Get ts info\n",
    "    str2 = file_name.split(\".\")\n",
    "    str3 = str2[0].split(\"_\")\n",
    "    id_list = [int(element) for element in str3]\n",
    "    g_id = int(id_list[1])\n",
    "\n",
    "    # Build ts blocks\n",
    "    TS = 1 # TS = 1 means around one second per block\n",
    "    LEN = raw.shape[0]\n",
    "    ts_delta = (int(raw.at[LEN-1, \"Timestamp\"]) - int(raw.at[0, \"Timestamp\"])) / pow(10,9) \n",
    "    sample_rate = int(LEN/ts_delta) \n",
    "    granu = int(TS * sample_rate)\n",
    "    df_wr = pd.DataFrame() \n",
    "\n",
    "    # Traverse Blocks in a ts\n",
    "    for i in range(1, int(ts_delta/TS) + 1):\n",
    "      \n",
    "      #set block\n",
    "      raw_block = raw_data[(i-1)*granu : (i*granu-1)]\n",
    "      \n",
    "      #compute statistics\n",
    "      fea_block = [] # 5 statistics\n",
    "      fea_block += list(raw_block.max())\n",
    "      fea_block += list(raw_block.min())\n",
    "      fea_block += list(raw_block.mean())\n",
    "      fea_block += list(raw_block.std())\n",
    "      fea_block += list(raw_block.median())\n",
    "      df_block_fea = pd.DataFrame(fea_block)\n",
    "      df_block_fea = df_block_fea.T\n",
    "      \n",
    "      #combine blocks feature\n",
    "      str2 = file_name.split(\".\")\n",
    "      str3 = str2[0].split(\"_\")\n",
    "      id_list = [int(element) for element in str3]\n",
    "      id_list.append(i)\n",
    "      \n",
    "      id_df = pd.DataFrame(id_list)\n",
    "      id_df = id_df.T\n",
    "      id_df.columns = [\"user_id\", \"game_id\", \"round_id\", \"device_id\", \"block_id\"]\n",
    "      df_block_row = pd.concat([id_df, df_block_fea], axis = 1, join = 'outer')\n",
    "      df_wr = df_wr.append(df_block_row)\n",
    "      \n",
    "    # Save One file info\n",
    "    str2 = file_name.split(\".\")\n",
    "    str3 = str2[0].split(\"_\")\n",
    "    id_list = [int(element) for element in str3]\n",
    "\n",
    "    id_list.append(ts_delta) # sec info: how many seconds\n",
    "    id_list.append(LEN) # how many samples\n",
    "    id_list.append(i+1) # how many blocks\n",
    "    id_df = pd.DataFrame(id_list)\n",
    "    id_df = id_df.T\n",
    "    id_df.columns = [\"user_id\", \"game_id\", \"round_id\", \"device_id\", \"time_slot\", \"sample_size\", \"block_number\"]\n",
    "    id_df.to_csv(save_info_path, mode='a', index=False, header=False)\n",
    "    #time_slot: how long for user playing the game: Unit-second\n",
    "    #sample_size:how many ts data\n",
    "    #block_number:timeseries is divided into how many blocks\n",
    "    \n",
    "    # Save file featues\n",
    "    df_wr.to_csv(save_feat_path, mode='a', index=False, header=False)"
   ]
  }
 ],
 "metadata": {
  "kernelspec": {
   "display_name": "Python 3 (ipykernel)",
   "language": "python",
   "name": "python3"
  },
  "language_info": {
   "codemirror_mode": {
    "name": "ipython",
    "version": 3
   },
   "file_extension": ".py",
   "mimetype": "text/x-python",
   "name": "python",
   "nbconvert_exporter": "python",
   "pygments_lexer": "ipython3",
   "version": "3.7.4"
  }
 },
 "nbformat": 4,
 "nbformat_minor": 5
}
