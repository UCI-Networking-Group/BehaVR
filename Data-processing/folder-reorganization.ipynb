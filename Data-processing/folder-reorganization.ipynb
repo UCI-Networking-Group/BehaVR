{
 "cells": [
  {
   "cell_type": "code",
   "execution_count": null,
   "id": "f77e1877",
   "metadata": {},
   "outputs": [],
   "source": [
    "# Topic: reorganize the files directory.\n",
    "\n",
    "# Example\n",
    "# From ./data/raw/101_1_1/101_1_1_1.csv #uid_aid_rid_fid, by user\n",
    "# To ./data/reorg/SG11/101_1_1_1.csv #by sensor group"
   ]
  },
  {
   "cell_type": "code",
   "execution_count": null,
   "id": "77236acf",
   "metadata": {},
   "outputs": [],
   "source": [
    "import os\n",
    "import shutil\n",
    "import numpy as np\n",
    "import pandas as pd"
   ]
  },
  {
   "cell_type": "code",
   "execution_count": null,
   "id": "9d263387",
   "metadata": {},
   "outputs": [],
   "source": [
    "dir_present = '...' #present directory"
   ]
  },
  {
   "cell_type": "code",
   "execution_count": null,
   "id": "6ffab93a",
   "metadata": {},
   "outputs": [],
   "source": [
    "#file_id to sensor group_id\n",
    "def fid_to_sgid(fid):\n",
    "    sg_list_11 = ['1']\n",
    "    sg_list_12 = ['2', '3']\n",
    "    sg_list_2 = ['4', '6']\n",
    "    sg_list_3 = ['5', '7']\n",
    "    sg_list_4 = ['8']\n",
    "    \n",
    "    if fid in sg_list_11:\n",
    "        sg_id = \"11\"\n",
    "    if fid in sg_list_12:\n",
    "        sg_id = \"12\"\n",
    "    if fid in sg_list_2:\n",
    "        sg_id = '2'\n",
    "    if fid in sg_list_3:\n",
    "        sg_id = '3'\n",
    "    if fid in sg_list_4:\n",
    "        sg_id = '4'\n",
    "    return sg_id\n",
    "\n",
    "#file_name to dir_destination\n",
    "def dir_des_trans(filename):\n",
    "    id_str = filename.split('.')        \n",
    "    id_list = id_str[0].split('_')\n",
    "    f_id = id_list[3]\n",
    "    sg_id = fid_to_sgid(f_id)\n",
    "    \n",
    "    des_dir_path = dir_present+\"/data/reorg/\" #destination directory: reorg folder\n",
    "    des_file_path = des_dir_path + \"SG\" + sg_id + '/' + filename\n",
    "    return des_file_path"
   ]
  },
  {
   "cell_type": "code",
   "execution_count": null,
   "id": "b2cb32f8",
   "metadata": {},
   "outputs": [],
   "source": [
    "for path, dir_list, file_list in os.walk(dir_present + \"/data/raw/\"): #source directory: raw folder:\n",
    "  for file_name in file_list:\n",
    "      \n",
    "    # File filter\n",
    "    if \"csv\" in file_name:\n",
    "        id_str = file_name.split('.')\n",
    "        if len(id_str[0]) > 0:\n",
    "            src_file_path = path + '/' + file_name\n",
    "            des_file_path = dir_des_trans(file_name)\n",
    "            shutil.copyfile(src_file_path, des_file_path) #copy file"
   ]
  }
 ],
 "metadata": {
  "kernelspec": {
   "display_name": "Python 3 (ipykernel)",
   "language": "python",
   "name": "python3"
  },
  "language_info": {
   "codemirror_mode": {
    "name": "ipython",
    "version": 3
   },
   "file_extension": ".py",
   "mimetype": "text/x-python",
   "name": "python",
   "nbconvert_exporter": "python",
   "pygments_lexer": "ipython3",
   "version": "3.7.4"
  }
 },
 "nbformat": 4,
 "nbformat_minor": 5
}
